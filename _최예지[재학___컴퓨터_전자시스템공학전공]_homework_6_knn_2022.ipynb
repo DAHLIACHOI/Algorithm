{
  "cells": [
    {
      "cell_type": "markdown",
      "metadata": {
        "id": "view-in-github",
        "colab_type": "text"
      },
      "source": [
        "<a href=\"https://colab.research.google.com/github/DAHLIACHOI/Algorithm/blob/main/_%EC%B5%9C%EC%98%88%EC%A7%80%5B%EC%9E%AC%ED%95%99___%EC%BB%B4%ED%93%A8%ED%84%B0_%EC%A0%84%EC%9E%90%EC%8B%9C%EC%8A%A4%ED%85%9C%EA%B3%B5%ED%95%99%EC%A0%84%EA%B3%B5%5D_homework_6_knn_2022.ipynb\" target=\"_parent\"><img src=\"https://colab.research.google.com/assets/colab-badge.svg\" alt=\"Open In Colab\"/></a>"
      ]
    },
    {
      "cell_type": "markdown",
      "metadata": {
        "id": "uMDnv6KMIDuT"
      },
      "source": [
        "# Homework 6. KNN - Handwritten digits"
      ]
    },
    {
      "cell_type": "markdown",
      "metadata": {
        "id": "A7fR68KFIDuW"
      },
      "source": [
        "***Double Click here to edit this cell***\n",
        "\n",
        "- Name: 최예지\n",
        "- Student ID: 201903603\n",
        "- Submission date: 2022.06.10"
      ]
    },
    {
      "cell_type": "markdown",
      "metadata": {
        "id": "Ayf3bwcQIDuW"
      },
      "source": [
        "### We have 1797 handwritten digits of size 8x8 "
      ]
    },
    {
      "cell_type": "code",
      "execution_count": 1,
      "metadata": {
        "colab": {
          "base_uri": "https://localhost:8080/",
          "height": 0
        },
        "id": "Dh1-gghiIDuX",
        "outputId": "07590f4f-669e-45f0-de42-7631baf1892b"
      },
      "outputs": [
        {
          "output_type": "stream",
          "name": "stdout",
          "text": [
            "(1797, 64)\n"
          ]
        }
      ],
      "source": [
        "from sklearn.datasets import load_digits\n",
        "digits = load_digits()\n",
        "print(digits.data.shape)"
      ]
    },
    {
      "cell_type": "code",
      "execution_count": 2,
      "metadata": {
        "colab": {
          "base_uri": "https://localhost:8080/",
          "height": 0
        },
        "id": "6LjpjPFpIDuX",
        "outputId": "dc634d52-2555-4a06-a204-a0132033624b"
      },
      "outputs": [
        {
          "output_type": "execute_result",
          "data": {
            "text/plain": [
              "(1797,)"
            ]
          },
          "metadata": {},
          "execution_count": 2
        }
      ],
      "source": [
        "digits.target.shape"
      ]
    },
    {
      "cell_type": "markdown",
      "metadata": {
        "id": "VryIFOPXIDuY"
      },
      "source": [
        "### Try with some handwritten images"
      ]
    },
    {
      "cell_type": "code",
      "execution_count": 3,
      "metadata": {
        "colab": {
          "base_uri": "https://localhost:8080/",
          "height": 493
        },
        "id": "U1YjTBplIDuY",
        "outputId": "12d08124-fd4c-4b46-fd56-0155bfd60403"
      },
      "outputs": [
        {
          "output_type": "stream",
          "name": "stdout",
          "text": [
            "Target is 0\n",
            "Data is :\n",
            "\n",
            "[[ 0.  0.  5. 13.  9.  1.  0.  0.]\n",
            " [ 0.  0. 13. 15. 10. 15.  5.  0.]\n",
            " [ 0.  3. 15.  2.  0. 11.  8.  0.]\n",
            " [ 0.  4. 12.  0.  0.  8.  8.  0.]\n",
            " [ 0.  5.  8.  0.  0.  9.  8.  0.]\n",
            " [ 0.  4. 11.  0.  1. 12.  7.  0.]\n",
            " [ 0.  2. 14.  5. 10. 12.  0.  0.]\n",
            " [ 0.  0.  6. 13. 10.  0.  0.  0.]]\n"
          ]
        },
        {
          "output_type": "display_data",
          "data": {
            "text/plain": [
              "<Figure size 432x288 with 0 Axes>"
            ]
          },
          "metadata": {}
        },
        {
          "output_type": "display_data",
          "data": {
            "text/plain": [
              "<Figure size 288x288 with 1 Axes>"
            ],
            "image/png": "[encoded data removed]"
          },
          "metadata": {
            "needs_background": "light"
          }
        }
      ],
      "source": [
        "%matplotlib inline\n",
        "\n",
        "import matplotlib.pyplot as plt \n",
        "\n",
        "k = 0\n",
        "print('Target is {}'.format(digits.target[k]))\n",
        "print('Data is :\\n')\n",
        "print(digits.data[k].reshape(8,8))\n",
        "plt.gray()\n",
        "plt.matshow(digits.images[k]) \n",
        "plt.show() "
      ]
    },
    {
      "cell_type": "markdown",
      "metadata": {
        "id": "FWdauNi_IDuY"
      },
      "source": [
        "# Problem 1 (30 pts)\n",
        "\n",
        "- We want to classify handwritten digits using **k nearest neighbor classifier**"
      ]
    },
    {
      "cell_type": "markdown",
      "metadata": {
        "id": "EwksuTMvIDuZ"
      },
      "source": [
        "## STEP 1\n",
        "\n",
        "- import whatever you need\n",
        "- you must set \"random_state=0\"\" in \"train_test_split\"\n",
        "- don't modify the random number seed (random_state)\n",
        "- Split the data into training dataset (0.67 of the total data), test dataset(0.33 of the total data)"
      ]
    },
    {
      "cell_type": "code",
      "execution_count": 4,
      "metadata": {
        "id": "9ME_3MsoIDuZ"
      },
      "outputs": [],
      "source": [
        "from sklearn import datasets\n",
        "\n",
        "digits = datasets.load_digits()\n",
        "\n",
        "import numpy as np\n",
        "from sklearn.model_selection import train_test_split\n",
        "from sklearn.metrics import confusion_matrix, classification_report, accuracy_score\n",
        "from sklearn.neighbors import KNeighborsClassifier\n",
        "\n",
        "np.random.seed(0)\n",
        "X_train, X_test, y_train, y_test = train_test_split(digits.data, digits.target, test_size=0.33)"
      ]
    },
    {
      "cell_type": "markdown",
      "metadata": {
        "id": "BivVBtXTIDua"
      },
      "source": [
        "## STEP 2\n",
        "\n",
        "- Use sklearn k nearest neighbor classifier to classify digits\n",
        "- Print confusion matrix, classification report, accuracy\n",
        "- This homework will be graded based on **accuracy**"
      ]
    },
    {
      "cell_type": "code",
      "execution_count": 5,
      "metadata": {
        "colab": {
          "base_uri": "https://localhost:8080/",
          "height": 0
        },
        "id": "pHUOpZAoIDua",
        "outputId": "1025f0f2-716a-4a0e-a2be-490dcd237058"
      },
      "outputs": [
        {
          "output_type": "stream",
          "name": "stdout",
          "text": [
            "confusion matrix : \n",
            "\n",
            "[[49  0  0  0  0  0  0  0  0  0]\n",
            " [ 0 61  0  0  0  0  0  0  0  0]\n",
            " [ 0  0 62  0  0  0  0  0  0  0]\n",
            " [ 0  0  0 55  0  0  0  0  0  0]\n",
            " [ 0  0  0  0 50  0  0  0  0  0]\n",
            " [ 0  0  0  0  0 63  1  0  0  1]\n",
            " [ 0  0  0  0  0  0 67  0  0  0]\n",
            " [ 0  0  0  0  0  0  0 56  0  0]\n",
            " [ 0  2  0  1  0  0  0  0 64  0]\n",
            " [ 0  0  0  3  0  1  0  0  0 58]]\n",
            "\n",
            "\n",
            "classification_report : \n",
            "\n",
            "              precision    recall  f1-score   support\n",
            "\n",
            "           0       1.00      1.00      1.00        49\n",
            "           1       0.97      1.00      0.98        61\n",
            "           2       1.00      1.00      1.00        62\n",
            "           3       0.93      1.00      0.96        55\n",
            "           4       1.00      1.00      1.00        50\n",
            "           5       0.98      0.97      0.98        65\n",
            "           6       0.99      1.00      0.99        67\n",
            "           7       1.00      1.00      1.00        56\n",
            "           8       1.00      0.96      0.98        67\n",
            "           9       0.98      0.94      0.96        62\n",
            "\n",
            "    accuracy                           0.98       594\n",
            "   macro avg       0.99      0.99      0.99       594\n",
            "weighted avg       0.99      0.98      0.98       594\n",
            "\n",
            "Average accuracy = 98.48%\n"
          ]
        }
      ],
      "source": [
        "#1부터 20까지의 accuracy 살펴봄\n",
        "for n in range(1, 20):\n",
        "    neigh = KNeighborsClassifier(n)\n",
        "    neigh.fit(X_train, y_train)\n",
        "    y_pred = neigh.predict(X_test)\n",
        "    accuracy = accuracy_score(y_test, y_pred)\n",
        "\n",
        "    #print (\"Average accuracy = {:.2f}%\".format(accuracy *100))\n",
        "\n",
        "neigh = KNeighborsClassifier(n_neighbors = 1)\n",
        "neigh.fit(X_train, y_train)\n",
        "y_pred = neigh.predict(X_test)\n",
        "cm = confusion_matrix(y_test, y_pred)\n",
        "cr = classification_report(y_test,y_pred)\n",
        "accuracy = accuracy_score(y_test, y_pred)\n",
        "\n",
        "\n",
        "print('confusion matrix : \\n')\n",
        "print(cm)\n",
        "print('\\n\\nclassification_report : \\n')\n",
        "print(cr)\n",
        "print('Average accuracy = {:.2f}%'.format(accuracy*100))"
      ]
    },
    {
      "cell_type": "markdown",
      "metadata": {
        "id": "8TDSESZVIDub"
      },
      "source": [
        "My result:\n",
        "```\n",
        "confusion matrix : \n",
        "\n",
        "[[49  0  0  0  0  0  0  0  0  0]\n",
        " [ 0 61  0  0  0  0  0  0  0  0]\n",
        " [ 0  0 62  0  0  0  0  0  0  0]\n",
        " [ 0  0  0 55  0  0  0  0  0  0]\n",
        " [ 0  0  0  0 50  0  0  0  0  0]\n",
        " [ 0  0  0  0  0 63  1  0  0  1]\n",
        " [ 0  0  0  0  0  0 67  0  0  0]\n",
        " [ 0  0  0  0  0  0  0 56  0  0]\n",
        " [ 0  2  0  1  0  0  0  0 64  0]\n",
        " [ 0  0  0  3  0  1  0  0  0 58]]\n",
        "\n",
        "\n",
        "classification_report : \n",
        "\n",
        "              precision    recall  f1-score   support\n",
        "\n",
        "           0       1.00      1.00      1.00        49\n",
        "           1       0.97      1.00      0.98        61\n",
        "           2       1.00      1.00      1.00        62\n",
        "           3       0.93      1.00      0.96        55\n",
        "           4       1.00      1.00      1.00        50\n",
        "           5       0.98      0.97      0.98        65\n",
        "           6       0.99      1.00      0.99        67\n",
        "           7       1.00      1.00      1.00        56\n",
        "           8       1.00      0.96      0.98        67\n",
        "           9       0.98      0.94      0.96        62\n",
        "\n",
        "    accuracy                           0.98       594\n",
        "   macro avg       0.99      0.99      0.99       594\n",
        "weighted avg       0.99      0.98      0.98       594\n",
        "\n",
        "Average accuracy = 98.48%\n",
        "```"
      ]
    },
    {
      "cell_type": "markdown",
      "metadata": {
        "id": "kQ3Y7N54IDub"
      },
      "source": [
        "## State-of-the-Art of MNIST classification: 99.79%\n",
        "\n",
        "- https://rodrigob.github.io/are_we_there_yet/build/classification_datasets_results.html\n",
        "- MNIST dataset is much bigger dataset: 60,000 training images and 10,000 testing images"
      ]
    },
    {
      "cell_type": "markdown",
      "metadata": {
        "id": "JJ2VVmEPIDuc"
      },
      "source": [
        "# Problem 2 (30 pts)\n",
        "\n",
        "- If you choose any hyperparameters and you did any transformation in your data, justify your choice and transformation.\n",
        "- The justification must be code, data, or plotted images, **not your guess!!!**\n",
        "- This must be a longer code. \n",
        "- Use plotted image whenever possible.\n",
        "- You may add as many cells as you want.\n",
        "- To add a cell, insert->insert cell or click '+' button above in the notebook.\n",
        "- you must set \"random_state=0\"\" in \"train_test_split\", \"TSNE\" or on any functions based on random numbers"
      ]
    },
    {
      "cell_type": "raw",
      "metadata": {
        "id": "ENArAgVbIDuc"
      },
      "source": [
        "# random_state must be set to 0\n",
        "\n",
        "TSNE(..., random_state=0)\n",
        "\n",
        "train_test_split(..., random_state=0)"
      ]
    },
    {
      "cell_type": "code",
      "execution_count": 6,
      "metadata": {
        "id": "g14N9PNrIDud"
      },
      "outputs": [],
      "source": [
        "import numpy as np\n",
        "import pandas as pd\n",
        "from sklearn.model_selection import train_test_split\n",
        "from sklearn.metrics import confusion_matrix, classification_report, accuracy_score\n",
        "from sklearn.neighbors import KNeighborsClassifier\n",
        "from sklearn.decomposition import PCA\n",
        "from sklearn.manifold import TSNE\n",
        "from sklearn import datasets\n",
        "\n",
        "digits = datasets.load_digits()\n",
        "\n",
        "np.random.seed(0)\n",
        "df = pd.DataFrame(digits.data, columns = digits.feature_names)\n",
        "target_df = pd.DataFrame(digits.target)"
      ]
    },
    {
      "cell_type": "code",
      "execution_count": 7,
      "metadata": {
        "id": "wERuQ6kGIDud"
      },
      "outputs": [],
      "source": [
        "np.random.seed(0)\n",
        "X_train, X_test, y_train, y_test = train_test_split(digits.data, digits.target, test_size=0.33)"
      ]
    },
    {
      "cell_type": "code",
      "execution_count": 8,
      "metadata": {
        "colab": {
          "base_uri": "https://localhost:8080/",
          "height": 0
        },
        "id": "jk0lFZOaIDud",
        "outputId": "2ae16aad-76ad-4097-f89c-baf7ee781294"
      },
      "outputs": [
        {
          "output_type": "stream",
          "name": "stdout",
          "text": [
            "pca dimention = 1, Average accuracy = 25.42%\n",
            "pca dimention = 2, Average accuracy = 55.05%\n",
            "pca dimention = 3, Average accuracy = 71.72%\n",
            "pca dimention = 4, Average accuracy = 81.65%\n",
            "pca dimention = 5, Average accuracy = 87.37%\n",
            "pca dimention = 6, Average accuracy = 91.92%\n",
            "pca dimention = 7, Average accuracy = 94.95%\n",
            "pca dimention = 8, Average accuracy = 96.13%\n",
            "pca dimention = 9, Average accuracy = 96.97%\n",
            "pca dimention = 10, Average accuracy = 97.64%\n",
            "pca dimention = 11, Average accuracy = 97.98%\n",
            "pca dimention = 12, Average accuracy = 97.98%\n",
            "pca dimention = 13, Average accuracy = 97.81%\n",
            "pca dimention = 14, Average accuracy = 97.98%\n",
            "pca dimention = 15, Average accuracy = 98.15%\n",
            "pca dimention = 16, Average accuracy = 98.15%\n",
            "pca dimention = 17, Average accuracy = 98.32%\n",
            "pca dimention = 18, Average accuracy = 98.15%\n",
            "pca dimention = 19, Average accuracy = 98.15%\n",
            "pca dimention = 20, Average accuracy = 98.48%\n",
            "pca dimention = 21, Average accuracy = 98.48%\n",
            "pca dimention = 22, Average accuracy = 98.48%\n",
            "pca dimention = 23, Average accuracy = 98.48%\n",
            "pca dimention = 24, Average accuracy = 98.32%\n",
            "pca dimention = 25, Average accuracy = 98.32%\n",
            "pca dimention = 26, Average accuracy = 98.32%\n",
            "pca dimention = 27, Average accuracy = 98.32%\n",
            "pca dimention = 28, Average accuracy = 98.48%\n",
            "pca dimention = 29, Average accuracy = 98.32%\n",
            "pca dimention = 30, Average accuracy = 98.48%\n",
            "pca dimention = 31, Average accuracy = 98.48%\n",
            "pca dimention = 32, Average accuracy = 98.48%\n",
            "pca dimention = 33, Average accuracy = 98.32%\n",
            "pca dimention = 34, Average accuracy = 98.32%\n",
            "pca dimention = 35, Average accuracy = 98.32%\n",
            "pca dimention = 36, Average accuracy = 98.32%\n",
            "pca dimention = 37, Average accuracy = 98.32%\n",
            "pca dimention = 38, Average accuracy = 98.48%\n",
            "pca dimention = 39, Average accuracy = 98.48%\n",
            "pca dimention = 40, Average accuracy = 98.48%\n",
            "pca dimention = 41, Average accuracy = 98.32%\n",
            "pca dimention = 42, Average accuracy = 98.48%\n",
            "pca dimention = 43, Average accuracy = 98.48%\n",
            "pca dimention = 44, Average accuracy = 98.48%\n",
            "pca dimention = 45, Average accuracy = 98.48%\n",
            "pca dimention = 46, Average accuracy = 98.48%\n",
            "pca dimention = 47, Average accuracy = 98.48%\n",
            "pca dimention = 48, Average accuracy = 98.48%\n",
            "pca dimention = 49, Average accuracy = 98.48%\n",
            "pca dimention = 50, Average accuracy = 98.48%\n",
            "pca dimention = 51, Average accuracy = 98.48%\n",
            "pca dimention = 52, Average accuracy = 98.48%\n",
            "pca dimention = 53, Average accuracy = 98.48%\n",
            "pca dimention = 54, Average accuracy = 98.48%\n",
            "pca dimention = 55, Average accuracy = 98.48%\n",
            "pca dimention = 56, Average accuracy = 98.48%\n",
            "pca dimention = 57, Average accuracy = 98.48%\n",
            "pca dimention = 58, Average accuracy = 98.48%\n",
            "pca dimention = 59, Average accuracy = 98.48%\n",
            "pca dimention = 60, Average accuracy = 98.48%\n",
            "pca dimention = 61, Average accuracy = 98.48%\n",
            "pca dimention = 62, Average accuracy = 98.48%\n",
            "pca dimention = 63, Average accuracy = 98.48%\n"
          ]
        }
      ],
      "source": [
        "pca_accuracy=[]\n",
        "for n in range(1,64):\n",
        "    np.random.seed(0)\n",
        "    pca = PCA(n_components = n)\n",
        "    pca_df = pca.fit_transform(df)\n",
        "    np.random.seed(0)\n",
        "    X_train, X_test, y_train, y_test = train_test_split(pca_df, digits.target, test_size=0.33)\n",
        "\n",
        "    neigh = KNeighborsClassifier(n_neighbors = 1)\n",
        "    neigh.fit(X_train, y_train)\n",
        "    y_pred = neigh.predict(X_test)\n",
        "    accuracy = accuracy_score(y_test, y_pred)\n",
        "\n",
        "    print('pca dimention = {}, Average accuracy = {:.2f}%'.format(n, accuracy*100))\n",
        "    pca_accuracy.append(accuracy*100)"
      ]
    },
    {
      "cell_type": "code",
      "execution_count": 9,
      "metadata": {
        "colab": {
          "base_uri": "https://localhost:8080/",
          "height": 0
        },
        "id": "WDNuMh7KIDue",
        "outputId": "49553dbf-6804-46b9-965d-943af09577e2"
      },
      "outputs": [
        {
          "output_type": "stream",
          "name": "stdout",
          "text": [
            "Average accuracy = 98.48%\n"
          ]
        }
      ],
      "source": [
        "print(\"Average accuracy = {:.2f}%\".format(max(pca_accuracy)))"
      ]
    },
    {
      "cell_type": "code",
      "execution_count": 10,
      "metadata": {
        "colab": {
          "base_uri": "https://localhost:8080/",
          "height": 0
        },
        "id": "WBkqiBJGIDue",
        "outputId": "232acdd8-e24b-4b00-feea-918c3ed999a3"
      },
      "outputs": [
        {
          "output_type": "stream",
          "name": "stdout",
          "text": [
            "perplexity = 10 Average accuracy = 98.65%\n",
            "perplexity = 20 Average accuracy = 98.99%\n",
            "perplexity = 30 Average accuracy = 98.65%\n",
            "perplexity = 40 Average accuracy = 98.65%\n",
            "perplexity = 50 Average accuracy = 98.82%\n",
            "perplexity = 60 Average accuracy = 98.65%\n",
            "perplexity = 70 Average accuracy = 98.82%\n",
            "perplexity = 80 Average accuracy = 98.15%\n",
            "perplexity = 90 Average accuracy = 98.15%\n"
          ]
        }
      ],
      "source": [
        "import warnings\n",
        "warnings.simplefilter(action='ignore', category=FutureWarning) # FutureWarning 제거\n",
        "\n",
        "for p in range(10,100,10):\n",
        "    np.random.seed(0)\n",
        "    tsne=TSNE(n_components = 2,  perplexity = p, learning_rate = 200)\n",
        "    new_df = tsne.fit_transform(df)\n",
        "    \n",
        "    np.random.seed(0)\n",
        "    X_train, X_test, y_train, y_test = train_test_split(new_df, digits.target, test_size=0.33)\n",
        "\n",
        "    neigh = KNeighborsClassifier(n_neighbors=1)\n",
        "    neigh.fit(X_train, y_train)\n",
        "    accuracy = neigh.score(X_test, y_test)\n",
        "    y_pred = neigh.predict(X_test)\n",
        "\n",
        "    print('perplexity = {} Average accuracy = {:.2f}%'.format(p, accuracy*100))"
      ]
    },
    {
      "cell_type": "code",
      "execution_count": 11,
      "metadata": {
        "colab": {
          "base_uri": "https://localhost:8080/",
          "height": 0
        },
        "id": "3Wu5kxRkIDuf",
        "outputId": "8c0d2a29-c242-48dc-adc1-bdd82480ff76"
      },
      "outputs": [
        {
          "output_type": "stream",
          "name": "stdout",
          "text": [
            "perplexity = 10 Average accuracy = 98.65%\n",
            "perplexity = 20 Average accuracy = 98.82%\n",
            "perplexity = 30 Average accuracy = 98.99%\n",
            "perplexity = 40 Average accuracy = 98.82%\n",
            "perplexity = 50 Average accuracy = 98.82%\n",
            "perplexity = 60 Average accuracy = 98.82%\n",
            "perplexity = 70 Average accuracy = 98.82%\n",
            "perplexity = 80 Average accuracy = 98.82%\n",
            "perplexity = 90 Average accuracy = 98.48%\n"
          ]
        }
      ],
      "source": [
        "for p in range(10,100,10):\n",
        "    np.random.seed(0)\n",
        "    tsne=TSNE(n_components = 3,  perplexity = p, learning_rate = 200)\n",
        "    new_df = tsne.fit_transform(df)\n",
        "    \n",
        "    np.random.seed(0)\n",
        "    X_train, X_test, y_train, y_test = train_test_split(new_df, digits.target, test_size=0.33)\n",
        "\n",
        "    neigh = KNeighborsClassifier(n_neighbors=1)\n",
        "    neigh.fit(X_train, y_train)\n",
        "    accuracy = neigh.score(X_test, y_test)\n",
        "    y_pred = neigh.predict(X_test)\n",
        "    \n",
        "    print('perplexity = {} Average accuracy = {:.2f}%'.format(p, accuracy*100))"
      ]
    },
    {
      "cell_type": "code",
      "execution_count": 12,
      "metadata": {
        "colab": {
          "base_uri": "https://localhost:8080/",
          "height": 0
        },
        "id": "QGlswv4HIDuf",
        "outputId": "39c20266-253a-464b-ad4e-630cfa481ac4"
      },
      "outputs": [
        {
          "output_type": "stream",
          "name": "stdout",
          "text": [
            "learning rate = 100 Average accuracy = 98.82%\n",
            "learning rate = 200 Average accuracy = 98.99%\n",
            "learning rate = 300 Average accuracy = 98.65%\n",
            "learning rate = 400 Average accuracy = 98.65%\n",
            "learning rate = 500 Average accuracy = 98.65%\n",
            "learning rate = 600 Average accuracy = 98.82%\n",
            "learning rate = 700 Average accuracy = 98.82%\n",
            "learning rate = 800 Average accuracy = 98.48%\n",
            "learning rate = 900 Average accuracy = 98.82%\n"
          ]
        }
      ],
      "source": [
        "for lr in range(100,1000,100):\n",
        "    np.random.seed(0)\n",
        "    tsne=TSNE(n_components = 2,  perplexity = 20,learning_rate = lr)\n",
        "    df = tsne.fit_transform(digits.data)\n",
        "\n",
        "    np.random.seed(0)\n",
        "    X_train, X_test, y_train, y_test = train_test_split(df, digits.target, test_size=0.33)\n",
        "    \n",
        "    neigh = KNeighborsClassifier(n_neighbors=1)\n",
        "    neigh.fit(X_train, y_train)\n",
        "    accuracy = neigh.score(X_test, y_test)\n",
        "    y_pred = neigh.predict(X_test)\n",
        "\n",
        "    print('learning rate = {} Average accuracy = {:.2f}%'.format(lr, accuracy*100))"
      ]
    },
    {
      "cell_type": "code",
      "execution_count": 13,
      "metadata": {
        "colab": {
          "base_uri": "https://localhost:8080/",
          "height": 0
        },
        "id": "kSkLPl5SIDuf",
        "outputId": "1c33be2b-22bb-4fb0-83c7-56bba35f09c9"
      },
      "outputs": [
        {
          "output_type": "stream",
          "name": "stdout",
          "text": [
            "learning rate = 100 Average accuracy = 98.82%\n",
            "learning rate = 200 Average accuracy = 98.99%\n",
            "learning rate = 300 Average accuracy = 98.99%\n",
            "learning rate = 400 Average accuracy = 98.99%\n",
            "learning rate = 500 Average accuracy = 98.82%\n",
            "learning rate = 600 Average accuracy = 96.80%\n",
            "learning rate = 700 Average accuracy = 94.28%\n",
            "learning rate = 800 Average accuracy = 89.39%\n",
            "learning rate = 900 Average accuracy = 87.21%\n"
          ]
        }
      ],
      "source": [
        "for lr in range(100,1000,100):\n",
        "    np.random.seed(0)\n",
        "    tsne=TSNE(n_components = 3, perplexity = 30, learning_rate = lr)\n",
        "    df = tsne.fit_transform(digits.data)\n",
        "\n",
        "    np.random.seed(0)\n",
        "    X_train, X_test, y_train, y_test = train_test_split(df, digits.target, test_size=0.33)\n",
        "    \n",
        "    neigh = KNeighborsClassifier(n_neighbors=1)\n",
        "    neigh.fit(X_train, y_train)\n",
        "    accuracy = neigh.score(X_test, y_test)\n",
        "    y_pred = neigh.predict(X_test)\n",
        "\n",
        "    print('learning rate = {} Average accuracy = {:.2f}%'.format(lr, accuracy*100))"
      ]
    },
    {
      "cell_type": "code",
      "execution_count": 14,
      "metadata": {
        "colab": {
          "base_uri": "https://localhost:8080/",
          "height": 0
        },
        "id": "OUffbmvFIDuh",
        "outputId": "90eda01c-de77-4740-ac9f-ad814824eb3e"
      },
      "outputs": [
        {
          "output_type": "stream",
          "name": "stdout",
          "text": [
            "confusion matrix : \n",
            "\n",
            "[[49  0  0  0  0  0  0  0  0  0]\n",
            " [ 0 61  0  0  0  0  0  0  0  0]\n",
            " [ 0  0 61  1  0  0  0  0  0  0]\n",
            " [ 0  0  0 55  0  0  0  0  0  0]\n",
            " [ 0  0  0  0 50  0  0  0  0  0]\n",
            " [ 0  0  0  0  0 63  1  0  0  1]\n",
            " [ 0  0  0  0  0  0 67  0  0  0]\n",
            " [ 0  0  0  0  0  0  0 56  0  0]\n",
            " [ 0  2  0  0  0  0  0  0 65  0]\n",
            " [ 0  0  0  1  0  0  0  0  0 61]]\n",
            "\n",
            "\n",
            "classification_report : \n",
            "\n",
            "              precision    recall  f1-score   support\n",
            "\n",
            "           0       1.00      1.00      1.00        49\n",
            "           1       0.97      1.00      0.98        61\n",
            "           2       1.00      0.98      0.99        62\n",
            "           3       0.96      1.00      0.98        55\n",
            "           4       1.00      1.00      1.00        50\n",
            "           5       1.00      0.97      0.98        65\n",
            "           6       0.99      1.00      0.99        67\n",
            "           7       1.00      1.00      1.00        56\n",
            "           8       1.00      0.97      0.98        67\n",
            "           9       0.98      0.98      0.98        62\n",
            "\n",
            "    accuracy                           0.99       594\n",
            "   macro avg       0.99      0.99      0.99       594\n",
            "weighted avg       0.99      0.99      0.99       594\n",
            "\n",
            "Average accuracy = 98.99%\n"
          ]
        }
      ],
      "source": [
        "np.random.seed(0)\n",
        "tsne = TSNE(n_components = 2,  perplexity = 20,learning_rate = 200)\n",
        "df = tsne.fit_transform(digits.data)\n",
        "\n",
        "np.random.seed(0)\n",
        "X_train, X_test, y_train, y_test = train_test_split(df, digits.target, test_size=0.33)\n",
        "\n",
        "neigh = KNeighborsClassifier(n_neighbors=1)\n",
        "neigh.fit(X_train, y_train)\n",
        "y_pred = neigh.predict(X_test)\n",
        "\n",
        "cm = confusion_matrix(y_test,y_pred)\n",
        "cr = classification_report(y_test,y_pred)\n",
        "accuracy = neigh.score(X_test, y_test)\n",
        "\n",
        "print('confusion matrix : \\n')\n",
        "print(cm)\n",
        "print('\\n\\nclassification_report : \\n')\n",
        "print(cr)\n",
        "print('Average accuracy = {:.2f}%'.format(accuracy*100))"
      ]
    },
    {
      "cell_type": "markdown",
      "metadata": {
        "id": "489cozPRIDuh"
      },
      "source": [
        "- This is my result. \n",
        "\n",
        "```\n",
        "confusion matrix : \n",
        "\n",
        "[[49  0  0  0  0  0  0  0  0  0]\n",
        " [ 0 61  0  0  0  0  0  0  0  0]\n",
        " [ 0  0 61  1  0  0  0  0  0  0]\n",
        " [ 0  0  0 55  0  0  0  0  0  0]\n",
        " [ 0  0  0  0 50  0  0  0  0  0]\n",
        " [ 0  0  0  0  0 63  1  0  0  1]\n",
        " [ 0  0  0  0  0  0 67  0  0  0]\n",
        " [ 0  0  0  0  0  0  0 56  0  0]\n",
        " [ 0  2  0  0  0  0  0  0 65  0]\n",
        " [ 0  0  0  1  0  0  0  0  0 61]]\n",
        "\n",
        "\n",
        "classification_report : \n",
        "\n",
        "              precision    recall  f1-score   support\n",
        "\n",
        "           0       1.00      1.00      1.00        49\n",
        "           1       0.97      1.00      0.98        61\n",
        "           2       1.00      0.98      0.99        62\n",
        "           3       0.96      1.00      0.98        55\n",
        "           4       1.00      1.00      1.00        50\n",
        "           5       1.00      0.97      0.98        65\n",
        "           6       0.99      1.00      0.99        67\n",
        "           7       1.00      1.00      1.00        56\n",
        "           8       1.00      0.97      0.98        67\n",
        "           9       0.98      0.98      0.98        62\n",
        "\n",
        "    accuracy                           0.99       594\n",
        "   macro avg       0.99      0.99      0.99       594\n",
        "weighted avg       0.99      0.99      0.99       594\n",
        "\n",
        "Average accuracy = 98.99%\n",
        "```"
      ]
    },
    {
      "cell_type": "markdown",
      "metadata": {
        "id": "c9KlCuCZIDuh"
      },
      "source": [
        "### Written justification for your hyperparameter choice and data transformation\n",
        "\n",
        "[주피터노트북에서 feature_names를 사용하면 자꾸 error가 생겨서 코랩으로 실행했습니다]\n",
        "\n",
        "Problem 1: neighber의 수를 1부터 20까지 하나씩 늘려가면서 accuracy를 확인하였고, 가장 높은 accuracy의 값을 가지려면 neighber가 1이어야 했기 때문에 neighber를 1로 설정하여서 문제를 풀었다.\n",
        "\n",
        "Problem 2 : PCA를 이용해서 차원을 감소시켜보았다. 차원을 감소시키면서 accuracy를 확인해보았는데 최대 accuracy가 98.43%로 측정되었다.\n",
        "\n",
        "t-SNE는 4차원 이상의 데이터는 시각화가 어렵기 때문에 보통 2, 3차원으로 차원 축소를 한다. 그래서 2, 3차원 축소를 하였다.\n",
        "2,3 차원에서 perplexity값을 변화시키면서 accuracy를 측정해보았는데, 2차원에서는 perplexity값이 20일 때, 3차원에서는 perplexity값이 30일 때 98.99%가 측정되었다. learning rate도 값의 변화를 일으키는지 궁금하여서, (2차원,perplexity=20)과 (3차원, perplexity=30)일 때 learning rate값을 변경하면서 값을 살펴보았다.\n",
        "2차원에서는 learning rate가 여전히 200일때만 accuracy가 98.99%가 나타났지만, 3차원에서는 200,300,400일 때 모두 98.99%가 나타났다.\n",
        "신기했던 점은 2차원에서 learning rate를 변경하여도 accuracy값의 변화가 크게 없었는데 3차원에서는 learning rate가 600이상일 때부터 accuracy값이 감소되는 것을 볼 수 있었다.\n",
        "2차원과 3차원을 비교해서, 2차원에서도 충분히 accuracy가 98.99%가 추출되기 때문에 더 큰 차원일 필요가 없다고 생각해서 결론에서는 2차원에서의 데이터를 이용했다."
      ]
    },
    {
      "cell_type": "markdown",
      "metadata": {
        "id": "8Fe-FwDZIDui"
      },
      "source": [
        "## Ethics:\n",
        "If you cheat, you will get negatgive of the total points.\n",
        "If the homework total is 22 and you cheat, you get -22."
      ]
    },
    {
      "cell_type": "markdown",
      "metadata": {
        "id": "_GT6ng97IDui"
      },
      "source": [
        "## What to submit\n",
        "\n",
        "- Run **all cells** after restarting the kernel\n",
        "- Goto \"File -> Print Preview\"\n",
        "- Print the page as pdf\n",
        "- Pdf file name must be in a form of: homework_6_홍길동_202200001.pdf\n",
        "- Submit the pdf file in google classroom\n",
        "- No late homeworks will be accepted\n",
        "- Your homework will be graded on the basis of correctness and programming skills"
      ]
    }
  ],
  "metadata": {
    "celltoolbar": "Slideshow",
    "hide_input": false,
    "kernelspec": {
      "display_name": "Python 3",
      "language": "python",
      "name": "python3"
    },
    "language_info": {
      "codemirror_mode": {
        "name": "ipython",
        "version": 3
      },
      "file_extension": ".py",
      "mimetype": "text/x-python",
      "name": "python",
      "nbconvert_exporter": "python",
      "pygments_lexer": "ipython3",
      "version": "3.7.3"
    },
    "colab": {
      "name": "_최예지[재학 _ 컴퓨터.전자시스템공학전공] - homework_6_knn_2022.ipynb",
      "provenance": [],
      "collapsed_sections": [],
      "include_colab_link": true
    }
  },
  "nbformat": 4,
  "nbformat_minor": 0
}